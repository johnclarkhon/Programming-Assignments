{
 "cells": [
  {
   "cell_type": "markdown",
   "id": "4c1d5166-be87-498b-90e6-40a01d152aa2",
   "metadata": {},
   "source": [
    "# EXPERIMENT 1: INTRODUCTION TO PYTHON PROGRAMMING"
   ]
  },
  {
   "cell_type": "markdown",
   "id": "659dfe06-6cb9-4663-8f14-6159591976e7",
   "metadata": {},
   "source": [
    "### Name: HONRADO, John Clark D.\n",
    "### Section: 2ECE-A"
   ]
  },
  {
   "cell_type": "markdown",
   "id": "1ad22919-cc41-479f-9e3d-0433a37f526d",
   "metadata": {},
   "source": [
    "## 1. ALPHABET SOUP PROBLEM"
   ]
  },
  {
   "cell_type": "code",
   "execution_count": 5,
   "id": "4640a4fd-2294-4aa3-84ea-4cf69782474f",
   "metadata": {},
   "outputs": [
    {
     "name": "stdout",
     "output_type": "stream",
     "text": [
      "aacdhhjklnnooorr\n"
     ]
    }
   ],
   "source": [
    "\n",
    "# Function: sorts the letters in a string alphabetically.\n",
    "def sort_letters(string): \n",
    "\n",
    "# Returns: A new string with the letters sorted alphabetically.\n",
    "  return ''.join(sorted(string)) \n",
    "\n",
    "# Example usage:\n",
    "string = \"johnclarkhonrado\"\n",
    "\n",
    "# Output: aacdhhjklnnooorr\n",
    "print(sort_letters(string))  \n"
   ]
  },
  {
   "cell_type": "markdown",
   "id": "a6cc48f4-1eda-45ed-9122-acd36eb36669",
   "metadata": {},
   "source": [
    "## 2. EMOTICON PROBLEM"
   ]
  },
  {
   "cell_type": "code",
   "execution_count": 6,
   "id": "002f9f3d-2fef-43f9-b061-cdc6031e6079",
   "metadata": {},
   "outputs": [
    {
     "name": "stdout",
     "output_type": "stream",
     "text": [
      "JC is feeling :(( today, but still, he does :) a lot.\n"
     ]
    }
   ],
   "source": [
    "\n",
    "# Function: replaces specific words with their corresponding emoticons.\n",
    "def words_to_emoticon(string): \n",
    "  emoticons = { \n",
    "      \"smile\": \":)\",\n",
    "      \"grin\": \":D\",\n",
    "      \"sad\": \":((\",\n",
    "      \"mad\": \">:(\"\n",
    "  }\n",
    "\n",
    "# separate words into list\n",
    "  words = string.split() \n",
    "    \n",
    "# new list to add new words\n",
    "  new_words = [] \n",
    "\n",
    "# for loop to append words/emoticons one by one to new_words\n",
    "  for word in words: \n",
    "    if word in emoticons:\n",
    "      new_words.append(emoticons[word])\n",
    "    else:\n",
    "      new_words.append(word)\n",
    "\n",
    "# Returns: the sentence with replaced words.\n",
    "  return \" \".join(new_words) \n",
    "\n",
    "# Example usage:\n",
    "string = \"JC is feeling sad today, but still, he does smile a lot.\"\n",
    "\n",
    "# Output: JC is feeling :(( today, but still, he does :) a lot.\n",
    "print(words_to_emoticon(string)) \n"
   ]
  },
  {
   "cell_type": "markdown",
   "id": "51baafc6-9810-499e-abf1-74ed1a03e334",
   "metadata": {},
   "source": [
    "## 3. UNPACKING LIST PROBLEM:"
   ]
  },
  {
   "cell_type": "code",
   "execution_count": 7,
   "id": "16491b32-cc69-469c-8958-cd0bbb3ed534",
   "metadata": {},
   "outputs": [
    {
     "name": "stdout",
     "output_type": "stream",
     "text": [
      "first: a \tmiddle: ['b', 'c', 'd', 'e', 'f'] \tlast: g\n"
     ]
    }
   ],
   "source": [
    "\n",
    "# list named as writeyourcodehere\n",
    "writeyourcodehere = ['a', 'b', 'c', 'd', 'e', 'f', 'g']\n",
    "\n",
    "#unpacking list\n",
    "first = writeyourcodehere[0]\n",
    "middle = writeyourcodehere[1:-1]\n",
    "last = writeyourcodehere[-1]\n",
    "\n",
    "# Output: first: a \tmiddle: ['b', 'c', 'd', 'e', 'f'] \tlast: g\n",
    "print(\"first: \" + str(first), \"\\tmiddle: \" + str(middle), \"\\tlast: \" + str(last)) \n"
   ]
  }
 ],
 "metadata": {
  "kernelspec": {
   "display_name": "Python 3 (ipykernel)",
   "language": "python",
   "name": "python3"
  },
  "language_info": {
   "codemirror_mode": {
    "name": "ipython",
    "version": 3
   },
   "file_extension": ".py",
   "mimetype": "text/x-python",
   "name": "python",
   "nbconvert_exporter": "python",
   "pygments_lexer": "ipython3",
   "version": "3.12.4"
  }
 },
 "nbformat": 4,
 "nbformat_minor": 5
}
